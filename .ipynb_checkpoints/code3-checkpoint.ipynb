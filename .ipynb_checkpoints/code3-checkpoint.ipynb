{
 "cells": [
  {
   "cell_type": "code",
   "execution_count": 1,
   "id": "54be04f3",
   "metadata": {},
   "outputs": [],
   "source": [
    "## 함수 선언부 (클래스 선언)"
   ]
  },
  {
   "cell_type": "code",
   "execution_count": 2,
   "id": "20ae6bbd",
   "metadata": {},
   "outputs": [],
   "source": [
    "## 전역 변수부\n",
    "katok =[]\n",
    "select = -1   #1. 추가   2. 삽입  3. 삭제   4. 종료"
   ]
  },
  {
   "cell_type": "code",
   "execution_count": null,
   "id": "d2e47154",
   "metadata": {},
   "outputs": [],
   "source": [
    "## 메인 코드부\n",
    "if __name__  == '__main__'  #  메인함수(진입점)\n",
    "    while(select !=4) :\n",
    "        select - int(input('1. 추가 2. 삽입 3. 삭제 4. 종료 --->'))    "
   ]
  }
 ],
 "metadata": {
  "kernelspec": {
   "display_name": "Python 3",
   "language": "python",
   "name": "python3"
  },
  "language_info": {
   "codemirror_mode": {
    "name": "ipython",
    "version": 3
   },
   "file_extension": ".py",
   "mimetype": "text/x-python",
   "name": "python",
   "nbconvert_exporter": "python",
   "pygments_lexer": "ipython3",
   "version": "3.6.4"
  }
 },
 "nbformat": 4,
 "nbformat_minor": 5
}
